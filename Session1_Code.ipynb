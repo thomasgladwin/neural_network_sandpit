{
 "cells": [
  {
   "cell_type": "code",
   "execution_count": null,
   "metadata": {
    "collapsed": true
   },
   "outputs": [],
   "source": [
    "# INSTRUCTIONS FOR THIS CELL\n",
    "#\n",
    "# You only have to RUN THE CODE of this cell. Press Shift + Enter as usual.\n",
    "# This will create the neural network to use in the following cells.\n",
    "# The network is called myNetwork and has only two input neurons and two output neurons.\n",
    "# When it's just been made, all the weights are set to zero.\n",
    "# The weights are contained in a matrix, called W, stored inside the network.\n",
    "\n",
    "import numpy\n",
    "\n",
    "import scipy.misc\n",
    "\n",
    "# neural network class definition\n",
    "class neuralNetwork:\n",
    "    # initialise the neural network\n",
    "    def __init__(self, inputnodes, outputnodes):\n",
    "        self.inodes = inputnodes\n",
    "        self.onodes = outputnodes\n",
    "        \n",
    "        # link weight matrices, wih and who\n",
    "        # weights inside the arrays are w_i_j, where link is from node i to node j in the next layer (i <-> j???)\n",
    "        self.W = numpy.zeros([self.onodes, self.inodes])\n",
    "        \n",
    "        self.activation_function = lambda x: x\n",
    "    \n",
    "    # query the neural network\n",
    "    def calculate(self, inputs_list):\n",
    "        inputs = numpy.array(inputs_list, ndmin=2).T\n",
    "        \n",
    "        weighted_sum_to_outputs = numpy.dot(self.W, inputs)\n",
    "        value_of_outputs = self.activation_function(weighted_sum_to_outputs)\n",
    "        return value_of_outputs\n",
    "\n",
    "myNetwork = neuralNetwork(2, 2)\n"
   ]
  },
  {
   "cell_type": "code",
   "execution_count": null,
   "metadata": {},
   "outputs": [],
   "source": [
    "# INSTRUCTIONS FOR THIS CELL\n",
    "#\n",
    "# Have a look at those weights, by printing the matrix W inside myNetwork, by running the command below.\n",
    "\n",
    "print(myNetwork.W)"
   ]
  },
  {
   "cell_type": "code",
   "execution_count": null,
   "metadata": {},
   "outputs": [],
   "source": [
    "# INSTRUCTIONS FOR THIS CELL\n",
    "#\n",
    "# Say the input values are both 1.\n",
    "# What do you think the output will be of the network with those weights?\n",
    "# See what the network says using the commands below.\n",
    "# The two values are the output values of the two output neurons.\n",
    "\n",
    "input_values = [1, 1]\n",
    "output_values = myNetwork.calculate(input_values)\n",
    "print(output_values)"
   ]
  },
  {
   "cell_type": "code",
   "execution_count": null,
   "metadata": {},
   "outputs": [],
   "source": [
    "# INSTRUCTIONS FOR THIS CELL\n",
    "#\n",
    "# So perhaps that wasn't surprising. Let's change the weights to one of the output neurons and try again!\n",
    "# Make a sketch of the network with the new weights filled in on the correct connection.\n",
    "# Then run the network calculation again, by copying the previous code to the lines below <ADD CODE HERE>\n",
    "# and running the cell's code.\n",
    "# Make sure you understand why you got this output - discuss with your group or neighbour if possible.\n",
    "\n",
    "myNetwork.W[0, 0] = 1\n",
    "myNetwork.W[0, 1] = 1\n",
    "\n",
    "# <ADD CODE HERE>\n"
   ]
  },
  {
   "cell_type": "code",
   "execution_count": null,
   "metadata": {
    "collapsed": true
   },
   "outputs": [],
   "source": [
    "# INSTRUCTIONS FOR THIS CELL\n",
    "#\n",
    "# Have a look at what the network weights now look like, using the command for that you used before.\n",
    "\n",
    "# <ADD CODE HERE>\n"
   ]
  },
  {
   "cell_type": "code",
   "execution_count": null,
   "metadata": {
    "collapsed": true
   },
   "outputs": [],
   "source": [
    "# INSTRUCTIONS FOR THIS CELL\n",
    "#\n",
    "# Now change the weights as follows. \n",
    "# Add the code to print out the network weights to see what they look like.\n",
    "\n",
    "myNetwork.W[0, 0] = 0.5\n",
    "myNetwork.W[0, 1] = 0.5\n",
    "myNetwork.W[1, 0] = -1\n",
    "myNetwork.W[1, 1] = 1\n",
    "\n",
    "# <ADD CODE HERE>\n"
   ]
  },
  {
   "cell_type": "code",
   "execution_count": null,
   "metadata": {
    "collapsed": true
   },
   "outputs": [],
   "source": [
    "# INSTRUCTIONS FOR THIS CELL\n",
    "#\n",
    "# Now try out what this network does to a series of inputs.\n",
    "# Run the network for each of the following input vectors listed below.\n",
    "# You can un-comment the input_vector lines one by one and run the cell.\n",
    "# Note down what output neuron 1 and 2 give as values.\n",
    "# What do the output neurons calculate? \n",
    "# Do you understand how the weights make this happen?\n",
    "\n",
    "# input_values = [10, 5]\n",
    "# input_values = [5, 10]\n",
    "# input_values = [10, 100]\n",
    "\n",
    "output_values = myNetwork.calculate(input_values)\n",
    "print(output_values)"
   ]
  },
  {
   "cell_type": "code",
   "execution_count": null,
   "metadata": {
    "collapsed": true
   },
   "outputs": [],
   "source": [
    "# INSTRUCTIONS FOR THIS CELL\n",
    "#\n",
    "# So our network can do basic maths!\n",
    "# It can also do logic.\n",
    "# For this, we limit input values to zeros and ones.\n",
    "#\n",
    "# We're going to turn output neuron 1 into an AND function.\n",
    "# This will give an \"ON\" value IF AND ONLY IF both inputs are 1.\n",
    "# We consider the output neuron to be ON when it has a value larger than 0.5.\n",
    "# The output neuron is OFF when it has a values smaller than or equal to 0.5.\n",
    "#\n",
    "# Can you fill in weights that solve this puzzle?\n",
    "# Calculate and write down the output for all four possible combinations of the two inputs as follow:\n",
    "# \n",
    "# Input1 Input2 Output1 Output2\n",
    "# 0      0      ?       ?\n",
    "# 0      1      ?       ?\n",
    "# 1      0      ?       ?\n",
    "# 1      1      ?       ?\n",
    "#\n",
    "# The test for the [0, 0] combination is prepared below already.\n",
    "\n",
    "myNetwork.W[0, 0] = 0\n",
    "myNetwork.W[0, 1] = 0\n",
    "myNetwork.W[1, 0] = 0\n",
    "myNetwork.W[1, 1] = 0\n",
    "\n",
    "input_values = [0, 0]\n",
    "output_values = myNetwork.calculate(input_values)\n",
    "print(output_values)\n"
   ]
  },
  {
   "cell_type": "code",
   "execution_count": null,
   "metadata": {
    "collapsed": true
   },
   "outputs": [],
   "source": [
    "# INSTRUCTIONS FOR THIS CELL\n",
    "#\n",
    "# Your final exercise is to turn the second output neuron into an OR function!\n",
    "# This will be ON when either one input is 1 or both inputs are 1, and OFF only if both inputs are 0.\n",
    "# Follow the same procedure as above.\n"
   ]
  },
  {
   "cell_type": "code",
   "execution_count": null,
   "metadata": {
    "collapsed": true
   },
   "outputs": [],
   "source": [
    "# INSTRUCTIONS FOR THIS CELL\n",
    "#\n",
    "# This is advanced exercise - only try it if you feel like it!\n",
    "#\n",
    "# This network can do lots of things. But could it create an Exclusive-OR (XOR) function?\n",
    "# This means that the output is ON if and only if exactly one input is 1. \n",
    "# If both inputs are 0 or both inputs are 1, then the output is OFF.\n",
    "#\n",
    "# If it can't do it - how could you expand the network to give it this new computational potential?\n"
   ]
  }
 ],
 "metadata": {
  "celltoolbar": "Raw Cell Format",
  "kernelspec": {
   "display_name": "Python 3",
   "language": "python",
   "name": "python3"
  },
  "language_info": {
   "codemirror_mode": {
    "name": "ipython",
    "version": 3
   },
   "file_extension": ".py",
   "mimetype": "text/x-python",
   "name": "python",
   "nbconvert_exporter": "python",
   "pygments_lexer": "ipython3",
   "version": "3.6.3"
  }
 },
 "nbformat": 4,
 "nbformat_minor": 2
}
